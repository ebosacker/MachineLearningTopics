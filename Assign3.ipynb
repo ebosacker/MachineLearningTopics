{
 "cells": [
  {
   "cell_type": "markdown",
   "metadata": {},
   "source": [
    "1) Display the number of instances for each class. That is, you should write code to find out how many instances you have for class 1, class 2, class 3, and class 4. (No loops)"
   ]
  },
  {
   "cell_type": "code",
   "execution_count": 181,
   "metadata": {},
   "outputs": [
    {
     "data": {
      "text/plain": [
       "3    281\n",
       "1    266\n",
       "4    236\n",
       "2    217\n",
       "Name: custcat, dtype: int64"
      ]
     },
     "execution_count": 181,
     "metadata": {},
     "output_type": "execute_result"
    }
   ],
   "source": [
    "import numpy as np\n",
    "import matplotlib.pyplot as plt\n",
    "import pandas as pd\n",
    "\n",
    "#Loading the dataset\n",
    "dataset = pd.read_csv('assign3data.csv')\n",
    "\n",
    "X = dataset.iloc[:,:11].values  \n",
    "y = dataset.iloc[:,11].values\n",
    "\n",
    "dataset['custcat'].value_counts()"
   ]
  },
  {
   "cell_type": "markdown",
   "metadata": {},
   "source": [
    "2) Perform one hot encoding on Column 1 (i.e. region) and drop the extra dummy variable."
   ]
  },
  {
   "cell_type": "code",
   "execution_count": 182,
   "metadata": {},
   "outputs": [],
   "source": [
    "#Dealing with categorical variables\n",
    "from sklearn.compose import make_column_transformer\n",
    "from sklearn.preprocessing import OneHotEncoder\n",
    "col_trans = make_column_transformer((OneHotEncoder(), [0]), remainder='passthrough')\n",
    "X = col_trans.fit_transform(X)\n",
    "\n",
    "#Removing the extra dummy variable (column 1)\n",
    "X = np.delete(X,0,1)\n"
   ]
  },
  {
   "cell_type": "markdown",
   "metadata": {},
   "source": [
    "3) Create histograms of columns age and income to visually explore their distributions."
   ]
  },
  {
   "cell_type": "code",
   "execution_count": 183,
   "metadata": {},
   "outputs": [
    {
     "data": {
      "image/png": "[encoded data removed]",
      "text/plain": [
       "<Figure size 432x288 with 1 Axes>"
      ]
     },
     "metadata": {
      "needs_background": "light"
     },
     "output_type": "display_data"
    },
    {
     "data": {
      "image/png": "[encoded data removed]",
      "text/plain": [
       "<Figure size 432x288 with 1 Axes>"
      ]
     },
     "metadata": {
      "needs_background": "light"
     },
     "output_type": "display_data"
    }
   ],
   "source": [
    "plt.hist(X[:, [3]], edgecolor='black')\n",
    "plt.title('Customer Age')\n",
    "plt.xlabel('Age')\n",
    "plt.ylabel('Frequency')\n",
    "plt.show()\n",
    "\n",
    "\n",
    "# There is a right skew to the Customer Income with some significant\n",
    "# outliers. I used relatively small bins in order to be able to view\n",
    "# the distribution of the dense area and also where the outliers are.\n",
    "\n",
    "plt.hist(X[:,[6]], bins=(np.arange(0,1500,25)),edgecolor='black')\n",
    "plt.title('Customer Income')\n",
    "plt.xlabel('Income')\n",
    "plt.ylabel('Frequency')\n",
    "plt.show()"
   ]
  },
  {
   "cell_type": "markdown",
   "metadata": {},
   "source": [
    "4) Split the dataset into training (70%) and testing set (30%). Perform normalization of the data using standardization."
   ]
  },
  {
   "cell_type": "code",
   "execution_count": 184,
   "metadata": {},
   "outputs": [],
   "source": [
    "#Splitting the data into Training Set and Test Set\n",
    "from sklearn.model_selection import train_test_split\n",
    "X_train, X_test, y_train, y_test = train_test_split(X,y,test_size=0.3,random_state=0)\n",
    "\n",
    "#Normalizing the features\n",
    "from sklearn.preprocessing import StandardScaler\n",
    "sc_X = StandardScaler()\n",
    "X_train = sc_X.fit_transform(X_train)\n",
    "X_test = sc_X.transform(X_test)"
   ]
  },
  {
   "cell_type": "markdown",
   "metadata": {},
   "source": [
    "5) Model 1: Fit a logistic regression model. What is the testing misclassification rate you get?"
   ]
  },
  {
   "cell_type": "code",
   "execution_count": 185,
   "metadata": {},
   "outputs": [
    {
     "name": "stdout",
     "output_type": "stream",
     "text": [
      "Logistic Regression Model:\n",
      "Misclassification Rate:  0.5966666666666667\n"
     ]
    }
   ],
   "source": [
    "#Fitting Logistic Regression to Training Set\n",
    "from sklearn.linear_model import LogisticRegression\n",
    "logClassifierObj = LogisticRegression(random_state=0)\n",
    "logClassifierObj.fit(X_train, y_train)\n",
    "\n",
    "#Making predictions on the Test Set\n",
    "y_pred = logClassifierObj.predict(X_test)\n",
    "\n",
    "#Finding Misclassification Rate\n",
    "misclass = 1 - (logClassifierObj.score(X_test, y_test))\n",
    "print('Logistic Regression Model:\\nMisclassification Rate: ', misclass)"
   ]
  },
  {
   "cell_type": "markdown",
   "metadata": {},
   "source": [
    "6) Model 2: We will now fit k-NN. However for k-NN you need to specify the value for k. In order to figure that out, run k-NN in a loop with different values of k (starting from k=5) and compute the testing misclassification rate. Plot a chart with k on X-axis and testing error on the Y-axis. What is the lowest value of testing error and corresponding value of k?"
   ]
  },
  {
   "cell_type": "code",
   "execution_count": 186,
   "metadata": {},
   "outputs": [
    {
     "name": "stdout",
     "output_type": "stream",
     "text": [
      "k-NN Model:\n",
      "Minimum misclassification rate:  0.6233333333333333\n",
      "Where K = 31\n"
     ]
    },
    {
     "data": {
      "text/plain": [
       "KNeighborsClassifier(n_neighbors=31)"
      ]
     },
     "execution_count": 186,
     "metadata": {},
     "output_type": "execute_result"
    },
    {
     "data": {
      "image/png": "[encoded data removed]",
      "text/plain": [
       "<Figure size 432x288 with 1 Axes>"
      ]
     },
     "metadata": {
      "needs_background": "light"
     },
     "output_type": "display_data"
    }
   ],
   "source": [
    "#Instantiating lists and i for the loop\n",
    "i = 5\n",
    "misclass = []\n",
    "k_list = []\n",
    "\n",
    "#Loop to find lowest misclass rate and corresponding value of k for k-NN Model\n",
    "while i <= 40:\n",
    "    from sklearn.neighbors import KNeighborsClassifier\n",
    "    knnClassifierObj = KNeighborsClassifier(n_neighbors=i, p=2, metric='minkowski')\n",
    "    knnClassifierObj.fit(X_train, y_train)\n",
    "    m = 1 - (knnClassifierObj.score(X_test,y_test))\n",
    "    misclass.append(m)\n",
    "    k_list.append(i)\n",
    "    i += 1\n",
    "    \n",
    "plt.scatter(k_list,misclass)\n",
    "k = (misclass.index(min(misclass))) + 5\n",
    "print(\"k-NN Model:\\nMinimum misclassification rate: \", min(misclass))\n",
    "print(\"Where K =\", k)\n",
    "\n",
    "#Storing the k-NN model with the lowest misclassification rate into knnClassifierObj\n",
    "knnClassifierObj = KNeighborsClassifier(n_neighbors=k, p=2, metric='minkowski')\n",
    "knnClassifierObj.fit(X_train, y_train)"
   ]
  },
  {
   "cell_type": "markdown",
   "metadata": {},
   "source": [
    "7) Model 3: Fit SVM model with different kernels. Which kernel gives the least testing error?"
   ]
  },
  {
   "cell_type": "code",
   "execution_count": 187,
   "metadata": {},
   "outputs": [
    {
     "name": "stdout",
     "output_type": "stream",
     "text": [
      "Linear SVM Model:\n",
      "Misclassification Rate:  0.5966666666666667\n",
      "[[47  9 28 11]\n",
      " [ 9 16 21 17]\n",
      " [24 16 34  7]\n",
      " [11 18  8 24]] \n",
      "\n",
      "Kernel SVM Model:\n",
      "Misclassification Rate:  0.64\n",
      "[[43  7 34 11]\n",
      " [ 9 18 19 17]\n",
      " [24 16 28 13]\n",
      " [ 9 19 14 19]] \n",
      "\n",
      "Sigmoid SVM Model:\n",
      "Misclassification Rate:  0.6066666666666667\n",
      "[[44  8 30 13]\n",
      " [13 16 17 17]\n",
      " [23 17 32  9]\n",
      " [ 9 15 11 26]]\n",
      "\n",
      "The linear SVM model has the lowest testing error.\n"
     ]
    }
   ],
   "source": [
    "# Linear SVM\n",
    "from sklearn.svm import SVC\n",
    "linClassifierObj = SVC(kernel='linear')\n",
    "linClassifierObj.fit(X_train, y_train)\n",
    "\n",
    "#Making predictions on the Test Set\n",
    "y_pred_lin = linClassifierObj.predict(X_test)\n",
    "\n",
    "#Model Accuracy\n",
    "print('Linear SVM Model:\\nMisclassification Rate: ', (1 - (linClassifierObj.score(X_test,y_test))))\n",
    "\n",
    "#Evaluating the predictions using a Confusion Matrix\n",
    "from sklearn.metrics import confusion_matrix\n",
    "cm = confusion_matrix(y_test, y_pred_lin)\n",
    "print(cm,'\\n')\n",
    "\n",
    "\n",
    "# Kernel SVM\n",
    "from sklearn.svm import SVC\n",
    "kernClassifierObj = SVC(kernel = 'rbf')\n",
    "kernClassifierObj.fit(X_train, y_train)\n",
    "\n",
    "#Making predictions on the Test Set\n",
    "y_pred_kern = kernClassifierObj.predict(X_test)\n",
    "\n",
    "#Model Accuracy\n",
    "print('Kernel SVM Model:\\nMisclassification Rate: ', (1 - (kernClassifierObj.score(X_test,y_test))))\n",
    "\n",
    "#Evaluating the predictions using a Confusion Matrix\n",
    "from sklearn.metrics import confusion_matrix\n",
    "cm = confusion_matrix(y_test, y_pred_kern)\n",
    "print(cm,'\\n')\n",
    "\n",
    "\n",
    "# Sigmoid SVM\n",
    "from sklearn.svm import SVC\n",
    "sigClassifierObj = SVC(kernel='sigmoid')\n",
    "sigClassifierObj.fit(X_train, y_train)\n",
    "\n",
    "#Making predictions on the Test Set\n",
    "y_pred_sig = sigClassifierObj.predict(X_test)\n",
    "\n",
    "#Model Accuracy\n",
    "print('Sigmoid SVM Model:\\nMisclassification Rate: ', (1 - (sigClassifierObj.score(X_test,y_test))))\n",
    "\n",
    "#Evaluating the predictions using a Confusion Matrix\n",
    "from sklearn.metrics import confusion_matrix\n",
    "cm = confusion_matrix(y_test, y_pred_sig)\n",
    "print(cm)\n",
    "\n",
    "print('\\nThe linear SVM model has the lowest testing error.')"
   ]
  },
  {
   "cell_type": "markdown",
   "metadata": {},
   "source": [
    "8) Model 4: Fit Naïve Bayes model. What is the testing error you get?"
   ]
  },
  {
   "cell_type": "code",
   "execution_count": 188,
   "metadata": {},
   "outputs": [
    {
     "name": "stdout",
     "output_type": "stream",
     "text": [
      "Naïve Bayes Model:\n",
      "Misclassification Rate:  0.6133333333333333\n",
      "[[73  7 15  0]\n",
      " [39 10 10  4]\n",
      " [42 13 23  3]\n",
      " [30 16  5 10]]\n"
     ]
    }
   ],
   "source": [
    "#Naïve Bayes\n",
    "from sklearn.naive_bayes import GaussianNB\n",
    "nbClassifierObj = GaussianNB()\n",
    "nbClassifierObj.fit(X_train, y_train)\n",
    "\n",
    "#Making predictions on the Test Set\n",
    "y_pred = nbClassifierObj.predict(X_test)\n",
    "\n",
    "#Model Accuracy\n",
    "print('Naïve Bayes Model:\\nMisclassification Rate: ', (1 - (nbClassifierObj.score(X_test,y_test))))\n",
    "\n",
    "#Evaluating the predictions using a Confusion Matrix\n",
    "from sklearn.metrics import confusion_matrix\n",
    "cm = confusion_matrix(y_test, y_pred)\n",
    "print(cm)"
   ]
  },
  {
   "cell_type": "markdown",
   "metadata": {},
   "source": [
    "9) Model 5: Fit Random Forest model. For Random Forest, you need to specify the number of trees (n_estimators). In order to figure that out, run Random Forest in a loop with different values of n_estimators (starting from 10) and compute the testing misclassification rate. Plot a chart with n_estimators on X-axis and testing error on the Y-axis. What is the lowest value of testing error and corresponding value of n_estimators?"
   ]
  },
  {
   "cell_type": "code",
   "execution_count": 192,
   "metadata": {},
   "outputs": [
    {
     "name": "stdout",
     "output_type": "stream",
     "text": [
      "Random Forest Model:\n",
      "Minimum misclassification rate:  0.63\n",
      "Where n_estimators = 120\n"
     ]
    },
    {
     "data": {
      "text/plain": [
       "RandomForestClassifier(criterion='entropy', n_estimators=120)"
      ]
     },
     "execution_count": 192,
     "metadata": {},
     "output_type": "execute_result"
    },
    {
     "data": {
      "image/png": "[encoded data removed]",
      "text/plain": [
       "<Figure size 432x288 with 1 Axes>"
      ]
     },
     "metadata": {
      "needs_background": "light"
     },
     "output_type": "display_data"
    }
   ],
   "source": [
    "#Random Forest Model\n",
    "from sklearn.ensemble import RandomForestClassifier\n",
    "\n",
    "#Instantiating lists and i for the loop\n",
    "i = 100\n",
    "misclass = []\n",
    "n_estimator = []\n",
    "\n",
    "while i <= 250:\n",
    "    rfClassifierObj = RandomForestClassifier(criterion='entropy', n_estimators=i)\n",
    "    rfClassifierObj.fit(X_train,y_train)\n",
    "    m = 1 - (rfClassifierObj.score(X_test,y_test))\n",
    "    misclass.append(m)\n",
    "    n_estimator.append(i)\n",
    "    i += 10\n",
    "\n",
    "plt.scatter(n_estimator, misclass)\n",
    "n = ((10 *(misclass.index(min(misclass)))) + 100)\n",
    "\n",
    "print(\"Random Forest Model:\\nMinimum misclassification rate: \", min(misclass))\n",
    "print(\"Where n_estimators =\", n)\n",
    "\n",
    "#Storing the Random Forest Model with lowest n_estimators into rfClassifierObj\n",
    "rfClassifierObj = RandomForestClassifier(criterion='entropy', n_estimators=n)\n",
    "rfClassifierObj.fit(X_train,y_train)"
   ]
  },
  {
   "cell_type": "markdown",
   "metadata": {},
   "source": [
    "10) Predicting with Ensemble: Now that you have built 5 models. Loop over the testing set. For every test instance, have each of the models predict the class label. Eventual class predicted will be based on a majority vote of the 5 models. What is the testing misclassification rate you get with the ensemble model?"
   ]
  },
  {
   "cell_type": "code",
   "execution_count": 195,
   "metadata": {},
   "outputs": [
    {
     "name": "stdout",
     "output_type": "stream",
     "text": [
      "Ensemble Model:\n",
      "Misclassification Rate:  0.5966666666666667\n",
      "[[55  7 25  8]\n",
      " [12 16 20 15]\n",
      " [25 16 33  7]\n",
      " [15 22  7 17]]\n"
     ]
    }
   ],
   "source": [
    "#Instantiating 2-d array and i for the loop\n",
    "i = 0\n",
    "y_pred_arr = np.zeros((len(X_test),5))\n",
    "\n",
    "#Loop to retrieve classification of the 5 models for each row of X_test\n",
    "#Resulting array stored into 2d array y_pred_arr\n",
    "while i < len(X_test):    \n",
    "    y_pred_log = logClassifierObj.predict(X_test[[i],:])\n",
    "    y_pred_knn = knnClassifierObj.predict(X_test[[i],:])\n",
    "    y_pred_lin = linClassifierObj.predict(X_test[[i],:])\n",
    "    y_pred_nb = nbClassifierObj.predict(X_test[[i],:])\n",
    "    y_pred_rf = rfClassifierObj.predict(X_test[[i],:])\n",
    "    \n",
    "    y_pred_arr[i] = np.array([[y_pred_log[0],y_pred_knn[0],y_pred_lin[0],y_pred_nb[0],y_pred_rf[0]]])\n",
    "\n",
    "    i += 1\n",
    "\n",
    "    \n",
    "#Finding mode of each row and creating 1-d array, y_pred\n",
    "from scipy import stats\n",
    "m_info = stats.mode(y_pred_arr, axis=1)\n",
    "m = m_info[0]\n",
    "y_pred_ensemble = m.flatten()\n",
    "\n",
    "#Finding Misclassification Rate of Ensemble Model\n",
    "from sklearn.metrics import accuracy_score\n",
    "misclass_ensemble = 1 - (accuracy_score(y_test, y_pred_ensemble))\n",
    "print('Ensemble Model:\\nMisclassification Rate: ', misclass_ensemble)\n",
    "\n",
    "#Evaluating the predictions using a Confusion Matrix\n",
    "from sklearn.metrics import confusion_matrix\n",
    "cm = confusion_matrix(y_test, y_pred_ensemble)\n",
    "print(cm)"
   ]
  },
  {
   "cell_type": "code",
   "execution_count": null,
   "metadata": {},
   "outputs": [],
   "source": []
  }
 ],
 "metadata": {
  "kernelspec": {
   "display_name": "Python 3",
   "language": "python",
   "name": "python3"
  },
  "language_info": {
   "codemirror_mode": {
    "name": "ipython",
    "version": 3
   },
   "file_extension": ".py",
   "mimetype": "text/x-python",
   "name": "python",
   "nbconvert_exporter": "python",
   "pygments_lexer": "ipython3",
   "version": "3.8.3"
  }
 },
 "nbformat": 4,
 "nbformat_minor": 4
}
